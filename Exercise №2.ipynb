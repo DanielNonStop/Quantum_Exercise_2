{
 "cells": [
  {
   "cell_type": "code",
   "execution_count": 1,
   "id": "loved-apparel",
   "metadata": {},
   "outputs": [],
   "source": [
    "import numpy as np"
   ]
  },
  {
   "cell_type": "markdown",
   "id": "three-hudson",
   "metadata": {},
   "source": [
    "Exercise №2 (Entering data)"
   ]
  },
  {
   "cell_type": "code",
   "execution_count": 3,
   "id": "healthy-adaptation",
   "metadata": {
    "scrolled": false
   },
   "outputs": [
    {
     "name": "stdout",
     "output_type": "stream",
     "text": [
      "Enter number of rows M: 3\n",
      "Enter number of cols N: 3\n",
      "Enter row №1: 0 0 1\n",
      "Enter row №2: 0 1 1\n",
      "Enter row №3: 1 0 1\n"
     ]
    }
   ],
   "source": [
    "try:\n",
    "    M = int(input('Enter number of rows M: '))\n",
    "    N = int(input('Enter number of cols N: '))\n",
    "    if M <= 0 or N <= 0:\n",
    "        raise ValueError('Dimensionals are incorrect')\n",
    "    \n",
    "    tmp_matrix = []\n",
    "    \n",
    "    for i in range(M):\n",
    "        row = [int(i) for i in input(f'Enter row №{i+1}: ').split()]\n",
    "        if len(row) != N:\n",
    "            raise ValueError('Row size is incorrect')\n",
    "        elif row.count(1)+row.count(0) != N:\n",
    "            raise ValueError('Only 0 and 1 are available')\n",
    "        tmp_matrix.append(row)\n",
    "    \n",
    "    matrix = np.array(tmp_matrix)\n",
    "\n",
    "except ValueError as e:\n",
    "    print(e)"
   ]
  },
  {
   "cell_type": "markdown",
   "id": "delayed-civilian",
   "metadata": {},
   "source": [
    "Exercise №2 (Solving process)"
   ]
  },
  {
   "cell_type": "code",
   "execution_count": 4,
   "id": "happy-arcade",
   "metadata": {},
   "outputs": [
    {
     "name": "stdout",
     "output_type": "stream",
     "text": [
      "Number of islands: 2\n",
      "[[(0, 2), (1, 2), (2, 2), (1, 1)], [(2, 0)]]\n"
     ]
    }
   ],
   "source": [
    "if matrix.any():\n",
    "    \n",
    "    def find_full_island(point):\n",
    "        find_points.append(point)\n",
    "        tmp_island.append(point)\n",
    "        if point[0] != 0 and matrix[point[0]-1][point[1]] == 1 and (point[0]-1,point[1]) not in find_points:\n",
    "            find_full_island((point[0]-1,point[1]))\n",
    "        if point[0] != M-1 and matrix[point[0]+1][point[1]] == 1 and (point[0]+1,point[1]) not in find_points:\n",
    "            find_full_island((point[0]+1,point[1]))\n",
    "        if point[1] != 0 and matrix[point[0]][point[1]-1] == 1 and (point[0],point[1]-1) not in find_points:\n",
    "            find_full_island((point[0],point[1]-1))\n",
    "        if point[1] != N-1 and matrix[point[0]][point[1]+1] == 1 and (point[0],point[1]+1) not in find_points:\n",
    "            find_full_island((point[0],point[1]+1))\n",
    "        \n",
    "        \n",
    "    find_points = []\n",
    "    islands = []\n",
    "    for i in range(M):\n",
    "        for j in range(N):\n",
    "            if matrix[i][j] != 1:\n",
    "                continue\n",
    "            if (i,j) not in find_points:\n",
    "                tmp_island = []\n",
    "                find_full_island((i,j))\n",
    "                islands.append(tmp_island)\n",
    "\n",
    "    print(f'Number of islands: {len(islands)}')\n",
    "    print(islands)\n",
    "else:\n",
    "    print('There are zero islands')"
   ]
  }
 ],
 "metadata": {
  "kernelspec": {
   "display_name": "Python 3",
   "language": "python",
   "name": "python3"
  },
  "language_info": {
   "codemirror_mode": {
    "name": "ipython",
    "version": 3
   },
   "file_extension": ".py",
   "mimetype": "text/x-python",
   "name": "python",
   "nbconvert_exporter": "python",
   "pygments_lexer": "ipython3",
   "version": "3.8.5"
  }
 },
 "nbformat": 4,
 "nbformat_minor": 5
}
